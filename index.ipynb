{
 "cells": [
  {
   "cell_type": "markdown",
   "metadata": {},
   "source": [
    "# The Probability Density Function (PDF) - Lab\n",
    "\n",
    "## Introduction\n",
    "\n",
    "In this lab we will look at building visualizations known as **density plots** to estimate the probability density for a given set of data. \n",
    "\n",
    "## Objectives\n",
    "\n",
    "You will be able to: \n",
    "\n",
    "* Calculate the PDF from given dataset containing real valued random variables\n",
    "* Plot density functions and comment on the shape of the plot\n",
    "* Plot density functions using seaborn\n",
    "\n",
    "\n",
    "## Let's get started!\n",
    "\n",
    "We'll import all the required libraries for you for this lab."
   ]
  },
  {
   "cell_type": "code",
   "execution_count": 1,
   "metadata": {},
   "outputs": [],
   "source": [
    "# Import required libraries\n",
    "import numpy as np\n",
    "import matplotlib.pyplot as plt\n",
    "plt.style.use('ggplot')\n",
    "import pandas as pd "
   ]
  },
  {
   "cell_type": "markdown",
   "metadata": {},
   "source": [
    "#### Import the dataset 'weight-height.csv' as pandas dataframe . Calculate the mean and standard deviation for weights and heights for male and female individually. \n",
    "\n",
    "Hint : Use your pandas dataframe subsetting skills like loc(), iloc() and groupby()"
   ]
  },
  {
   "cell_type": "code",
   "execution_count": 10,
   "metadata": {},
   "outputs": [],
   "source": [
    "data = pd.read_csv(\"weight-height.csv\")\n",
    "male_df =  data.loc[data['Gender']== 'Male']\n",
    "female_df =  data.loc[data['Gender']== 'Female']"
   ]
  },
  {
   "cell_type": "code",
   "execution_count": 19,
   "metadata": {},
   "outputs": [
    {
     "name": "stdout",
     "output_type": "stream",
     "text": [
      "Male Height mean: 69.02634590621737\n",
      "Male Height sd: 2.8633622286606517\n",
      "Male Weight mean: 187.0206206581929\n",
      "Male Weight sd: 19.781154516763813\n"
     ]
    }
   ],
   "source": [
    "print('Male Height mean:', male_df.Height.mean())\n",
    "print('Male Height sd:', male_df.Height.std())\n",
    "\n",
    "print('Male Weight mean:', male_df.Weight.mean())\n",
    "print('Male Weight sd:', male_df.Weight.std())"
   ]
  },
  {
   "cell_type": "code",
   "execution_count": 22,
   "metadata": {},
   "outputs": [
    {
     "name": "stdout",
     "output_type": "stream",
     "text": [
      "Female Height mean: 63.708773603424916\n",
      "Female Height sd: 2.696284015765056\n",
      "Female Weight mean: 135.8600930074687\n",
      "Female Weight sd: 19.022467805319007\n"
     ]
    }
   ],
   "source": [
    "print('Female Height mean:', female_df.Height.mean())\n",
    "print('Female Height sd:', female_df.Height.std())\n",
    "\n",
    "print('Female Weight mean:', female_df.Weight.mean())\n",
    "print('Female Weight sd:', female_df.Weight.std())"
   ]
  },
  {
   "cell_type": "markdown",
   "metadata": {},
   "source": [
    "#### Plot overlapping normalized histograms for male and female heights - use binsize = 10, set alpha level so that overlap can be visualized"
   ]
  },
  {
   "cell_type": "code",
   "execution_count": null,
   "metadata": {},
   "outputs": [],
   "source": [
    "male_df.Height.plot.hist(bins=10, normed = True,  alpha = 0.7, label =\"Male Height\")\n",
    "female_df.Height.plot.hist(bins=10, normed = True,  alpha = 0.7, label =\"Male Height\"))"
   ]
  },
  {
   "cell_type": "code",
   "execution_count": null,
   "metadata": {},
   "outputs": [],
   "source": [
    "# Record your observations - are these inline with your personal observations?\n",
    "\n"
   ]
  },
  {
   "cell_type": "markdown",
   "metadata": {},
   "source": [
    "#### Write a function density() that takes in a random variable and calculates the density function using `np.hist` and interpolation. The function should return two lists carrying x and y coordinates for plotting the density functio"
   ]
  },
  {
   "cell_type": "code",
   "execution_count": null,
   "metadata": {},
   "outputs": [],
   "source": [
    "def density(x):\n",
    "    \n",
    "    pass\n",
    "\n",
    "\n",
    "\n",
    "# Generate test data and test the function - uncomment to run the test\n",
    "# np.random.seed(5)\n",
    "# mu, sigma = 0, 0.1 # mean and standard deviation\n",
    "# s = np.random.normal(mu, sigma, 100)\n",
    "# x,y = density(s)\n",
    "# plt.plot(x,y, label = 'test')\n",
    "# plt.legend()"
   ]
  },
  {
   "cell_type": "code",
   "execution_count": null,
   "metadata": {},
   "outputs": [],
   "source": []
  },
  {
   "cell_type": "markdown",
   "metadata": {},
   "source": [
    "#### Add Overlapping density plots for male and female heights to the histograms plotted earlier"
   ]
  },
  {
   "cell_type": "code",
   "execution_count": null,
   "metadata": {},
   "outputs": [],
   "source": [
    "# You code here "
   ]
  },
  {
   "cell_type": "code",
   "execution_count": null,
   "metadata": {},
   "outputs": [],
   "source": []
  },
  {
   "cell_type": "markdown",
   "metadata": {},
   "source": [
    "#### Repeat above exerice for male and female weights"
   ]
  },
  {
   "cell_type": "code",
   "execution_count": null,
   "metadata": {},
   "outputs": [],
   "source": [
    "# Your code here "
   ]
  },
  {
   "cell_type": "code",
   "execution_count": null,
   "metadata": {},
   "outputs": [],
   "source": []
  },
  {
   "cell_type": "markdown",
   "metadata": {},
   "source": [
    "#### Write your observations in the cell below."
   ]
  },
  {
   "cell_type": "code",
   "execution_count": null,
   "metadata": {},
   "outputs": [],
   "source": [
    "# Record your observations - are these inline with your personal observations?\n",
    "\n",
    "\n",
    "# So whats the takeaway when comparing male and female heights and weights \n",
    "\n"
   ]
  },
  {
   "cell_type": "markdown",
   "metadata": {},
   "source": [
    "#### Repeat Above experiments in seaborn and compare with your results. "
   ]
  },
  {
   "cell_type": "code",
   "execution_count": null,
   "metadata": {},
   "outputs": [],
   "source": []
  },
  {
   "cell_type": "code",
   "execution_count": null,
   "metadata": {},
   "outputs": [],
   "source": []
  },
  {
   "cell_type": "code",
   "execution_count": null,
   "metadata": {},
   "outputs": [],
   "source": [
    "# Your comments on the two approaches here. \n",
    "# are they similar ? what makes them different if they are ?"
   ]
  },
  {
   "cell_type": "markdown",
   "metadata": {},
   "source": [
    "## Summary"
   ]
  },
  {
   "cell_type": "markdown",
   "metadata": {},
   "source": [
    "In this lesson we saw how to build the probability density curves visually for given datasets and compare on the distribution visually by looking at the spread , center and overlap between data elements. This is a useful EDA technique and can be used to answer some initial questions before embarking on a complex analytics journey."
   ]
  }
 ],
 "metadata": {
  "kernelspec": {
   "display_name": "Python 3",
   "language": "python",
   "name": "python3"
  },
  "language_info": {
   "codemirror_mode": {
    "name": "ipython",
    "version": 3
   },
   "file_extension": ".py",
   "mimetype": "text/x-python",
   "name": "python",
   "nbconvert_exporter": "python",
   "pygments_lexer": "ipython3",
   "version": "3.7.0"
  }
 },
 "nbformat": 4,
 "nbformat_minor": 2
}
